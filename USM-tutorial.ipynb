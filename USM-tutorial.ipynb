{
 "cells": [
  {
   "cell_type": "markdown",
   "id": "348d9492",
   "metadata": {},
   "source": [
    "# Estimating Cultural Loss with Copia\n",
    "\n",
    "### _Folgert Karsdorp_ \n",
    "\n",
    "---\n",
    "\n",
    "<div>\n",
    "<img src=\"./images/copia.png\" width=\"150\" style=\"float: right; margin: 10px;\"/>\n",
    "</div>\n",
    "\n",
    "Copia is a statistical software package designed for estimating diversity and richness based on abundance data. It incorporates several bias-correcting richness estimators, including the Chao1 estimator, aiding in a more accurate exploration of unseen entities in various datasets. This notebook serves as an introduction to applying unseen species models to cultural data using Copia.\n",
    "\n",
    "We'll kick-start our tutorial with a brief exploration of a dataset comprising medieval Dutch manuscripts. This initial exercise aims to familiarize you with Copia’s functionalities and the foundational principles of unseen species models.\n",
    "\n",
    "Following this, we will delve into a more detailed analysis using Darwin's correspondence corpus. The objective here is to estimate the number of Darwin's correspondents that remain unseen. Through this exercise, we aim to demonstrate the practical application of Copia in estimating unseen entities in historical or cultural datasets, thereby providing you a blueprint to explore your own datasets."
   ]
  },
  {
   "cell_type": "markdown",
   "id": "09837f4e",
   "metadata": {},
   "source": [
    "## Copia: A Quickstart\n",
    "\n",
    "### Installing Copia:\n",
    "\n",
    "Copia can be easily installed from PyPi using pip. Run the following command to install Copia on your machine:\n",
    "```bash\n",
    "python -m pip install copia\n",
    "```\n",
    "\n",
    "### Data Source\n",
    "\n",
    "<div>\n",
    "<img src=\"./images/spiegel-der-letteren.png\" width=\"450\" style=\"float: right; margin: 10px;\"/>\n",
    "</div>\n",
    "\n",
    "The data for this first part of the tutorial is sourced from the study by Kestemont & Karsdorp (2019), which marked our initial exploration into the realm of unseen medieval literature using statistical methods.\n",
    "\n",
    "### Study Abstract\n",
    "\n",
    "\n",
    "The study addresses a key challenge in historical literature research: the incomplete transmission of sources over centuries, leading to a potential underestimation of the literary diversity of the past. By employing eco-diversity statistical methods on Middle Dutch chivalric epics, the study suggests that previous estimates of text loss might have been too conservative. These methods unveil that up to half, or possibly more, of the original texts may have been lost over time, highlighting the need for quantitative tools to adjust our understanding of historical literary diversity.\n",
    "\n",
    "### Loading the Data\n",
    "\n",
    "We will utilize the Pandas library to load our dataset for analysis. The following section provides the necessary code and instructions to successfully load and prepare the data for our exploration using Copia."
   ]
  },
  {
   "cell_type": "code",
   "execution_count": null,
   "id": "07bb60cc",
   "metadata": {},
   "outputs": [],
   "source": [
    "import pandas as pd\n",
    "\n",
    "url = 'https://raw.githubusercontent.com/fbkarsdorp/unseen-species-tutorial/main/data/dutch.csv'\n",
    "df = pd.read_csv(url, sep=';')\n",
    "df.columns = 'work', 'signature'\n",
    "df.head()"
   ]
  },
  {
   "cell_type": "markdown",
   "id": "2cad29bd",
   "metadata": {},
   "source": [
    "### Extracting data\n",
    "\n",
    "The Chao1 estimator formula necessitates the provision of two key parameters from our collection: the number of items occurring once ($f_1$) and the number of items occurring twice ($f_2$). These parameters are pivotal for estimating the unseen diversity in our dataset.\n",
    "\n",
    "Copia comes with a utility function designed to streamline the conversion of our list of works into abundance data, aligning with the requirements of the Chao1 estimator. Below, we will demonstrate how to employ this utility function to prepare our dataset for further analysis:"
   ]
  },
  {
   "cell_type": "code",
   "execution_count": null,
   "id": "d8e89ed0",
   "metadata": {},
   "outputs": [],
   "source": [
    "import copia.utils\n",
    "\n",
    "abundance = copia.utils.to_abundance(df['work'])\n",
    "abundance"
   ]
  },
  {
   "cell_type": "markdown",
   "id": "c6e6119d",
   "metadata": {},
   "source": [
    "<div class=\"alert alert-block alert-success\">\n",
    "    <b>Note:</b> The functionality illustrated above can also be achieved using the following code, which exclusively utilizes Pandas:\n",
    "</div>"
   ]
  },
  {
   "cell_type": "code",
   "execution_count": null,
   "id": "fbc2455c",
   "metadata": {},
   "outputs": [],
   "source": [
    "df['work'].value_counts().values"
   ]
  },
  {
   "cell_type": "markdown",
   "id": "90d6a973",
   "metadata": {},
   "source": [
    "### Summarizing abundance data\n",
    "\n",
    "Copia provides a suite of statistical functions to summarize the data, one of which is the `basic_stats` function. As demonstrated in the subsequent code block, this function returns various metrics including the count of items occurring once ($f_1$), twice ($f_2$), and up to four times ($f_4$). Additionally, it provides the observed number of unique items ($S$) and the total number of observations ($n$):"
   ]
  },
  {
   "cell_type": "code",
   "execution_count": null,
   "id": "8b43dcca",
   "metadata": {},
   "outputs": [],
   "source": [
    "copia.utils.basic_stats(abundance)"
   ]
  },
  {
   "cell_type": "markdown",
   "id": "7addbed3",
   "metadata": {},
   "source": [
    "One of the advantageous features of Copia is its ability to facilitate easy visualization of abundance data. This step is often crucial before applying unseen species estimators since these estimators are dependent on values of $f_1$ and $f_2$. It's essential to ensure these values are present in the data. The code block below demonstrates how to visualize the abundance data as a histogram using Copia's plotting utilities:"
   ]
  },
  {
   "cell_type": "code",
   "execution_count": null,
   "id": "4cff76c7",
   "metadata": {},
   "outputs": [],
   "source": [
    "import matplotlib.pyplot as plt\n",
    "plt.style.use(\"seaborn-v0_8-notebook\")\n",
    "\n",
    "import copia.plot\n",
    "\n",
    "copia.plot.abundance_counts(abundance);"
   ]
  },
  {
   "cell_type": "markdown",
   "id": "5b1d5f35",
   "metadata": {},
   "source": [
    "Alternatively, Copia allows for the visualization of abundance counts per frequency category, which can provide insightful perspectives on the distribution of item occurrences within the dataset. In the following demonstration, we'll plot the count of items occurring once, twice, and so forth:"
   ]
  },
  {
   "cell_type": "code",
   "execution_count": null,
   "id": "5d829097",
   "metadata": {},
   "outputs": [],
   "source": [
    "copia.plot.abundance_histogram(abundance);"
   ]
  },
  {
   "cell_type": "markdown",
   "id": "5d7a7fbf",
   "metadata": {},
   "source": [
    "### Species Richness"
   ]
  },
  {
   "cell_type": "markdown",
   "id": "81436ca6",
   "metadata": {},
   "source": [
    "Utilize Copia's `copia.richness` module to estimate unbiased diversity using one of the available estimators. All estimators can be accessed through a single entry point, the `diversity()` function:"
   ]
  },
  {
   "cell_type": "code",
   "execution_count": null,
   "id": "560888da",
   "metadata": {},
   "outputs": [],
   "source": [
    "from copia.richness import diversity\n",
    "\n",
    "round(diversity(abundance, method='chao1'))"
   ]
  },
  {
   "cell_type": "markdown",
   "id": "bb4b2070",
   "metadata": {},
   "source": [
    "Copia includes a variety of estimators for your convenience:"
   ]
  },
  {
   "cell_type": "code",
   "execution_count": null,
   "id": "43a02fca",
   "metadata": {},
   "outputs": [],
   "source": [
    "for m in ('chao1', 'ichao1', 'ace', 'jackknife', 'egghe_proot'):\n",
    "    print(m, '->', round(diversity(abundance, method=m)))"
   ]
  },
  {
   "cell_type": "markdown",
   "id": "451d2069",
   "metadata": {},
   "source": [
    "For retrieving empirical species richness or the population size, you can use the following commands:"
   ]
  },
  {
   "cell_type": "code",
   "execution_count": null,
   "id": "51c44631",
   "metadata": {},
   "outputs": [],
   "source": [
    "print('species richness:', diversity(abundance, method='empirical'))\n",
    "print('population size:', diversity(abundance, method='empirical', species=False))"
   ]
  },
  {
   "cell_type": "markdown",
   "id": "bef855e1",
   "metadata": {},
   "source": [
    "### Bootstrapped Estimation\n",
    "\n",
    "The Chao1 estimator provides a lower bound estimate of the unseen species count. However, this estimate itself has an associated range, defined by a lower and upper bound, which represents the confidence interval around the estimate. Two common approaches to obtaining this confidence interval include analytical solutions or bootstrap procedures. In Copia, the bootstrap procedure is implemented to derive these bounds. To enable this feature, set the `CI` parameter to `True` when calling the function. This will return a dictionary containing the relevant keys, including the actual bootstrap values:"
   ]
  },
  {
   "cell_type": "code",
   "execution_count": null,
   "id": "a4a6aafe",
   "metadata": {
    "scrolled": true
   },
   "outputs": [],
   "source": [
    "D = diversity(abundance, method='chao1', CI=True, n_iter=1000, n_jobs=4)\n",
    "D.keys()"
   ]
  },
  {
   "cell_type": "markdown",
   "id": "9d8ec298",
   "metadata": {},
   "source": [
    "It's possible to visualize the distribution of these bootstrap values using a histogram. This visual representation can provide a clearer understanding of the confidence interval around the Chao1 estimate:"
   ]
  },
  {
   "cell_type": "code",
   "execution_count": null,
   "id": "373f6eba",
   "metadata": {},
   "outputs": [],
   "source": [
    "copia.plot.density(D);"
   ]
  },
  {
   "cell_type": "markdown",
   "id": "1b142eaf",
   "metadata": {},
   "source": [
    "Copia includes a utility function to calculate these estimates as \"survival ratios,\" which are bounded between 0 and 1. This normalized representation can be particularly insightful. Additionally, Copia facilitates the visualization of these ratios using the `density()` function, as demonstrated below:"
   ]
  },
  {
   "cell_type": "code",
   "execution_count": null,
   "id": "b9a4674b",
   "metadata": {},
   "outputs": [],
   "source": [
    "from copia.utils import survival_ratio\n",
    "\n",
    "survival = survival_ratio(abundance, method='chao1', n_iter=1000, n_jobs=4)\n",
    "copia.plot.density(survival, xlim=(0, 1));"
   ]
  },
  {
   "cell_type": "markdown",
   "id": "bc6e2135",
   "metadata": {},
   "source": [
    "### Species Accumulation\n",
    "\n",
    "Species Accumulation curves elucidate the relationship between the number of unique species and the increment in sample size (i.e., the number of observations). With Copia, you can compute this relationship effortlessly using the `species_accumulation()` function. Examine the following code snippet for a practical demonstration:"
   ]
  },
  {
   "cell_type": "code",
   "execution_count": null,
   "id": "173689a9",
   "metadata": {},
   "outputs": [],
   "source": [
    "from copia.richness import species_accumulation\n",
    "\n",
    "accumulation = species_accumulation(abundance, max_steps=4000, n_iter=1000)\n",
    "accumulation"
   ]
  },
  {
   "cell_type": "markdown",
   "id": "af19699a",
   "metadata": {},
   "source": [
    "We can visualize the species accumulation using Copia's `accumulation_curve()` function. The following code snippet demonstrates how to plot the accumulation curve:"
   ]
  },
  {
   "cell_type": "code",
   "execution_count": null,
   "id": "9eb42220",
   "metadata": {},
   "outputs": [],
   "source": [
    "from copia.plot import accumulation_curve\n",
    "\n",
    "copia.plot.accumulation_curve(\n",
    "    abundance, accumulation,\n",
    "    xlabel='Number of samples (documents)', ylabel='Number of species (works)',\n",
    "    title='Species Accumulation Curve');"
   ]
  },
  {
   "cell_type": "markdown",
   "id": "63d7218d",
   "metadata": {},
   "source": [
    "In the plotted curve, the blue dot represents the empirical species richness. To its left, the interpolated accumulation of species with increased sampling is depicted. On the right, a projection into the future is illustrated, showing the anticipated discovery of new species or works with further document sampling. Notably, the curve begins to flatten around 1500 documents, suggesting that beyond this point, no new unseen works are expected to be found according to the estimator.\n",
    "\n",
    "\n",
    "### Minimum Additional Sampling\n",
    "\n",
    "To ascertain a more precise estimate of the additional sampling required to discover all unique species, Copia offers the \"**minimum additional sampling**\" method. This method provides a less conventional unbiased estimator to obtain a lower bound on the true population size, thus gauging the minimum number of samples needed to uncover the estimated species richness. Here's how you can utilize this method:"
   ]
  },
  {
   "cell_type": "code",
   "execution_count": null,
   "id": "9eeba93e",
   "metadata": {},
   "outputs": [],
   "source": [
    "round(diversity(abundance, method='minsample'))"
   ]
  },
  {
   "cell_type": "markdown",
   "id": "f96ff608",
   "metadata": {},
   "source": [
    "This output indicates that a minimum of 2142 samples is required to reach the estimated species richness. For a more robust understanding, a bootstrap procedure is available to compute the confidence intervals of this number:"
   ]
  },
  {
   "cell_type": "code",
   "execution_count": null,
   "id": "868ef85a",
   "metadata": {},
   "outputs": [],
   "source": [
    "minsample = diversity(abundance, method='minsample', CI=True, n_iter=1000, n_jobs=4)"
   ]
  },
  {
   "cell_type": "markdown",
   "id": "69a1d8bd",
   "metadata": {},
   "source": [
    "Lastly, plotting the results as a histogram and comparing the median estimate to the position in the accumulation curve plot can provide a visual comprehension of these estimates:"
   ]
  },
  {
   "cell_type": "code",
   "execution_count": null,
   "id": "58f09a5e",
   "metadata": {},
   "outputs": [],
   "source": [
    "import numpy as np\n",
    "import seaborn as sns\n",
    "from matplotlib.patches import ConnectionPatch\n",
    "\n",
    "fig, (accum_ax, minsample_ax) = plt.subplots(ncols=2, constrained_layout=True, figsize=(8, 4))\n",
    "copia.plot.accumulation_curve(\n",
    "    abundance, accumulation, ax=accum_ax,\n",
    "    xlabel='Number of samples (documents)', ylabel='Number of species (works)');\n",
    "\n",
    "minsample_estimate = np.median(minsample[\"bootstrap\"])\n",
    "accum_ax.axvline(minsample_estimate, color=\"grey\", label=\"Minsample estimate\");\n",
    "\n",
    "sns.histplot(minsample['bootstrap'], kde=True, ax=minsample_ax)\n",
    "\n",
    "xyA = (minsample_estimate, 200)\n",
    "xyB = (minsample_estimate, 140)\n",
    "\n",
    "# Create the arrow using ConnectionPatch and add it to the figure\n",
    "con = ConnectionPatch(xyA=xyA, xyB=xyB, coordsA=\"data\", coordsB=\"data\",\n",
    "                      axesA=accum_ax, axesB=minsample_ax, \n",
    "                      connectionstyle=\"arc3,rad=-0.5\",\n",
    "                      arrowstyle=\"-|>\", color=\"black\")\n",
    "fig.add_artist(con);"
   ]
  },
  {
   "cell_type": "markdown",
   "id": "fbd9d232",
   "metadata": {},
   "source": [
    "# Case Study: Darwin's Unseen Correspondents\n",
    "\n",
    "Now that we have acquainted ourselves with the Copia package and the underlying principles of unseen species models, it's time to dive into a real-world dataset - The Correspondence of Charles Darwin. Despite the extensive corpus of over 15,000 letters, new correspondences continue to emerge, hinting at the existence of unseen correspondents.\n",
    "\n",
    "In this hands-on session, we will apply the tools and techniques learned to estimate the unseen correspondents in Darwin's correspondence network. Additionally, we will explore the variations in survival ratios across different years and ascertain the minimal additional sampling needed to complete the correspondence network.\n",
    "\n",
    "This exercise aims to reinforce the concepts learned, foster collaborative problem-solving, and provide a practical insight into the application of unseen species models in historical or cultural datasets. Ready to delve into the unseen narrative of Darwin's correspondences? Let's get started!"
   ]
  },
  {
   "cell_type": "markdown",
   "id": "b71cc191",
   "metadata": {},
   "source": [
    "### Loading the data\n",
    "\n",
    "We start by loading the data, which is stored as a csv table in the data folder:"
   ]
  },
  {
   "cell_type": "code",
   "execution_count": null,
   "id": "fcbf5cd2",
   "metadata": {},
   "outputs": [],
   "source": [
    "import pandas as pd\n",
    "\n",
    "url = 'https://raw.githubusercontent.com/fbkarsdorp/unseen-species-tutorial/main/data/darwin-correspondence.csv'\n",
    "df = pd.read_csv(url, parse_dates=[\"sorting_date\"])\n",
    "df['sorting_date'] = pd.DatetimeIndex(df['sorting_date'])\n",
    "df.sample(5)"
   ]
  },
  {
   "cell_type": "markdown",
   "id": "fb8efca8",
   "metadata": {},
   "source": [
    "The archive consists of 15228 letters:"
   ]
  },
  {
   "cell_type": "markdown",
   "id": "e955e171",
   "metadata": {},
   "source": [
    "## Instructions\n",
    "\n",
    "1. **Group Formation:**\n",
    "   1. Form small groups of 3-4 participants.\n",
    "2. **Dataset Exploration:**\n",
    "   1. Load the Darwin correspondence dataset.\n",
    "   2. Familiarize yourself with the dataset structure and contents.\n",
    "3. **Estimation of Unseen Correspondents:**\n",
    "   1. Apply the tools learned to estimate the number of unseen correspondents in the dataset.\n",
    "4. **Survival Ratios Analysis:**\n",
    "   1. Analyze the survival ratios between different years.\n",
    "   2. Visualize the findings for a clearer understanding.\n",
    "5. **Minimal Additional Sampling:**\n",
    "   1. Determine the minimal additional sampling needed to complete the correspondence network.\n",
    "6. **Discussion and Compilation:**\n",
    "   1. Discuss the findings within your group.\n",
    "   2. Prepare a brief presentation summarizing your methodology, findings, and any challenges encountered.\n",
    "7. **Presentation:**\n",
    "   1. Each group will have 5 minutes to present their findings.\n",
    "\n",
    "You have 30 to 45 minutes to complete this exercise. Feel free to reach out if you have any questions or encounter any issues during the session. Good luck!"
   ]
  }
 ],
 "metadata": {
  "kernelspec": {
   "display_name": "Python 3 (ipykernel)",
   "language": "python",
   "name": "python3"
  },
  "language_info": {
   "codemirror_mode": {
    "name": "ipython",
    "version": 3
   },
   "file_extension": ".py",
   "mimetype": "text/x-python",
   "name": "python",
   "nbconvert_exporter": "python",
   "pygments_lexer": "ipython3",
   "version": "3.11.3"
  }
 },
 "nbformat": 4,
 "nbformat_minor": 5
}
